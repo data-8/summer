{
 "cells": [
  {
   "cell_type": "code",
   "execution_count": null,
   "metadata": {},
   "outputs": [],
   "source": [
    "from datascience import *\n",
    "import numpy as np\n",
    "\n",
    "import matplotlib.pyplot as plots\n",
    "plots.style.use('fivethirtyeight')\n",
    "%matplotlib inline"
   ]
  },
  {
   "cell_type": "code",
   "execution_count": null,
   "metadata": {},
   "outputs": [],
   "source": [
    "# A bunch of demo arrays and functions\n",
    "# in this cell and the next few\n",
    "\n",
    "r = 0.5\n",
    "x_demo = np.random.normal(0, 1, 10000)\n",
    "z_demo = np.random.normal(0, 1, 10000)\n",
    "y_demo = r*x_demo + np.sqrt(1 - r**2)*z_demo"
   ]
  },
  {
   "cell_type": "code",
   "execution_count": null,
   "metadata": {},
   "outputs": [],
   "source": [
    "def trial_line():\n",
    "    plots.figure(figsize=(7,7))\n",
    "    plots.xlim(-4, 4)\n",
    "    plots.ylim(-4, 4)\n",
    "    plots.scatter(x_demo, y_demo, s=10)\n",
    "    #plots.plot([-4, 4], [-4*0.6,4*0.6], color='g', lw=2)\n",
    "    plots.plot([-4,4],[-4,4], color='r', lw=2)\n",
    "    #plots.plot([1.5,1.5], [-4,4], color='k', lw=2)\n",
    "    plots.xlabel('x in standard units')\n",
    "    plots.ylabel('y in standard units');\n",
    "    \n",
    "def trial_with_vertical():\n",
    "    trial_line()\n",
    "    plots.plot([1.5,1.5], [-4,4], color='k', lw=2);\n",
    "    \n",
    "def both_with_vertical():\n",
    "    trial_line()\n",
    "    plots.plot([1.5,1.5], [-4,4], color='k', lw=2)\n",
    "    plots.plot([-4, 4], [-4*0.6,4*0.6], color='g', lw=2);\n",
    "    \n",
    "def regression_line(r):\n",
    "    x = np.random.normal(0, 1, 10000)\n",
    "    z = np.random.normal(0, 1, 10000)\n",
    "    y = r*x + (np.sqrt(1-r**2))*z\n",
    "    plots.figure(figsize=(7, 7))\n",
    "    plots.xlim(-4, 4)\n",
    "    plots.ylim(-4, 4)\n",
    "    plots.scatter(x, y, s=10)\n",
    "    plots.plot([-4, 4], [-4*r,4*r], color='g', lw=2)\n",
    "    if r >= 0:\n",
    "        plots.plot([-4,4],[-4,4], lw=2, color='r')\n",
    "    else:\n",
    "        plots.plot([-4,4], [4,-4], lw=2, color='r')  "
   ]
  },
  {
   "cell_type": "code",
   "execution_count": null,
   "metadata": {},
   "outputs": [],
   "source": [
    "def draw_and_compare(true_slope, true_int, sample_size):\n",
    "    x = np.random.normal(50, 5, sample_size)\n",
    "    xlims = np.array([np.min(x), np.max(x)])\n",
    "    errors = np.random.normal(0, 6, sample_size)\n",
    "    y = (true_slope * x + true_int) + errors\n",
    "    sample = Table().with_columns('x', x, 'y', y)\n",
    "\n",
    "    sample.scatter(0, 1)\n",
    "    plots.plot(xlims, true_slope*xlims + true_int, lw=2, color='green')\n",
    "    plots.title('True Line, and Points Created')\n",
    "\n",
    "    sample.scatter(0, 1)\n",
    "    plots.title('What We Get to See')\n",
    "\n",
    "    sample.scatter(0, 1, fit_line=True)\n",
    "    plots.title('Regression Line: Estimate of True Line')\n",
    "\n",
    "    sample.scatter(0, 1, fit_line=True)\n",
    "    plots.plot(xlims, true_slope*xlims + true_int, lw=2, color='green')\n",
    "    plots.title(\"Regression Line and True Line\")"
   ]
  },
  {
   "cell_type": "markdown",
   "metadata": {},
   "source": [
    "## Galton's Data ##"
   ]
  },
  {
   "cell_type": "code",
   "execution_count": null,
   "metadata": {},
   "outputs": [],
   "source": [
    "galton = Table.read_table('galton.csv')\n",
    "galton"
   ]
  },
  {
   "cell_type": "code",
   "execution_count": null,
   "metadata": {},
   "outputs": [],
   "source": [
    "heights = Table().with_columns(\n",
    "    'MidParent', galton.column('midparentHeight'),\n",
    "    'Child', galton.column('childHeight')\n",
    "    )"
   ]
  },
  {
   "cell_type": "code",
   "execution_count": null,
   "metadata": {},
   "outputs": [],
   "source": [
    "heights"
   ]
  },
  {
   "cell_type": "code",
   "execution_count": null,
   "metadata": {},
   "outputs": [],
   "source": [
    "heights.scatter('MidParent', 'Child')"
   ]
  },
  {
   "cell_type": "code",
   "execution_count": null,
   "metadata": {},
   "outputs": [],
   "source": [
    "heights.scatter('MidParent', 'Child', fit_line=True)"
   ]
  },
  {
   "cell_type": "markdown",
   "metadata": {},
   "source": [
    "## Identifying the Line ##"
   ]
  },
  {
   "cell_type": "code",
   "execution_count": null,
   "metadata": {},
   "outputs": [],
   "source": [
    "trial_line()"
   ]
  },
  {
   "cell_type": "code",
   "execution_count": null,
   "metadata": {},
   "outputs": [],
   "source": [
    "trial_with_vertical()"
   ]
  },
  {
   "cell_type": "code",
   "execution_count": null,
   "metadata": {},
   "outputs": [],
   "source": [
    "both_with_vertical()"
   ]
  },
  {
   "cell_type": "code",
   "execution_count": null,
   "metadata": {},
   "outputs": [],
   "source": [
    "regression_line(0.33)"
   ]
  },
  {
   "cell_type": "markdown",
   "metadata": {},
   "source": [
    "## No Matter What the Shape of the Scatter ... ##\n",
    "\n",
    "- There is still a unique \"best\" straight line.\n",
    "- It equation is the same as the one we could see for oval scatter plots."
   ]
  },
  {
   "cell_type": "code",
   "execution_count": null,
   "metadata": {},
   "outputs": [],
   "source": [
    "checkout_times = Table.read_table(\"groceries.csv\")"
   ]
  },
  {
   "cell_type": "code",
   "execution_count": null,
   "metadata": {},
   "outputs": [],
   "source": [
    "checkout_times.show(3)"
   ]
  },
  {
   "cell_type": "code",
   "execution_count": null,
   "metadata": {},
   "outputs": [],
   "source": [
    "checkout_times.scatter('Items', 'Time')"
   ]
  },
  {
   "cell_type": "markdown",
   "metadata": {},
   "source": [
    "## Predicting Time Based on Number of Items ##"
   ]
  },
  {
   "cell_type": "code",
   "execution_count": null,
   "metadata": {},
   "outputs": [],
   "source": [
    "checkout_times.scatter('Items', 'Time', fit_line=True)"
   ]
  },
  {
   "cell_type": "code",
   "execution_count": null,
   "metadata": {},
   "outputs": [],
   "source": [
    "ct_guess_slope = 3\n",
    "ct_guess_intercept = 40"
   ]
  },
  {
   "cell_type": "markdown",
   "metadata": {},
   "source": [
    "## Prediction"
   ]
  },
  {
   "cell_type": "code",
   "execution_count": null,
   "metadata": {},
   "outputs": [],
   "source": [
    "ct_guess_slope * 3 + ct_guess_intercept"
   ]
  },
  {
   "cell_type": "code",
   "execution_count": null,
   "metadata": {},
   "outputs": [],
   "source": [
    "ct_guess_slope * 9 + ct_guess_intercept"
   ]
  },
  {
   "cell_type": "code",
   "execution_count": null,
   "metadata": {},
   "outputs": [],
   "source": [
    "ct_guess_slope * 25 + ct_guess_intercept"
   ]
  },
  {
   "cell_type": "code",
   "execution_count": null,
   "metadata": {},
   "outputs": [],
   "source": [
    "def fit(table, x, y, a, b):\n",
    "    \"\"\"Return the height of the line (slope a, intercept b) at each x value.\"\"\"\n",
    "    return a * table.column(x) + b"
   ]
  },
  {
   "cell_type": "code",
   "execution_count": null,
   "metadata": {},
   "outputs": [],
   "source": [
    "ct_fitted = checkout_times.with_column('Fitted', fit(checkout_times, 'Items', 'Time', ct_guess_slope, ct_guess_intercept))"
   ]
  },
  {
   "cell_type": "code",
   "execution_count": null,
   "metadata": {},
   "outputs": [],
   "source": [
    "ct_fitted.scatter('Items')"
   ]
  },
  {
   "cell_type": "markdown",
   "metadata": {},
   "source": [
    "## Errors in prediction"
   ]
  },
  {
   "cell_type": "code",
   "execution_count": null,
   "metadata": {},
   "outputs": [],
   "source": [
    "checkout_times.show(3)"
   ]
  },
  {
   "cell_type": "code",
   "execution_count": null,
   "metadata": {},
   "outputs": [],
   "source": [
    "selected_pts = [[10, 54], [16,78], [28, 94], [38, 179]]\n",
    "def ct_errors(slope, intercept):\n",
    "    print('Slope:    ', np.round(slope, decimals=1), 'seconds per item')\n",
    "    print('Intercept:', np.round(intercept, decimals=1), 'seconds')\n",
    "    checkout_times.scatter('Items', 'Time')\n",
    "    xlims = np.array([0, 60])\n",
    "    plots.plot(xlims, slope * xlims + intercept, lw=2)\n",
    "    for x, y in selected_pts:\n",
    "        plots.plot([x, x], [y, slope * x + intercept], color='r', lw=2)"
   ]
  },
  {
   "cell_type": "code",
   "execution_count": null,
   "metadata": {},
   "outputs": [],
   "source": [
    "ct_errors(ct_guess_slope, ct_guess_intercept)"
   ]
  },
  {
   "cell_type": "markdown",
   "metadata": {},
   "source": [
    "## Best fit line"
   ]
  },
  {
   "cell_type": "code",
   "execution_count": null,
   "metadata": {},
   "outputs": [],
   "source": [
    "ct_errors(1, 70)"
   ]
  },
  {
   "cell_type": "code",
   "execution_count": null,
   "metadata": {},
   "outputs": [],
   "source": [
    "ct_errors(-2, 180)"
   ]
  },
  {
   "cell_type": "code",
   "execution_count": null,
   "metadata": {},
   "outputs": [],
   "source": [
    "def plot_rmse(slope, intercept):\n",
    "    ct_errors(slope, intercept)\n",
    "    x = checkout_times.column('Items')\n",
    "    y = checkout_times.column('Time')\n",
    "    fitted = slope * x + intercept\n",
    "    mse = np.mean((y - fitted) ** 2)\n",
    "    print(\"Root mean squared error:\", mse ** 0.5)"
   ]
  },
  {
   "cell_type": "code",
   "execution_count": null,
   "metadata": {},
   "outputs": [],
   "source": [
    "plot_rmse(1, 70)"
   ]
  },
  {
   "cell_type": "code",
   "execution_count": null,
   "metadata": {},
   "outputs": [],
   "source": [
    "plot_rmse(-2, 180)"
   ]
  },
  {
   "cell_type": "code",
   "execution_count": null,
   "metadata": {},
   "outputs": [],
   "source": [
    "plot_rmse(2.5, 40)"
   ]
  },
  {
   "cell_type": "code",
   "execution_count": null,
   "metadata": {},
   "outputs": [],
   "source": [
    "plot_rmse(ct_guess_slope, ct_guess_intercept)"
   ]
  },
  {
   "cell_type": "markdown",
   "metadata": {},
   "source": [
    "## Numerical optimization"
   ]
  },
  {
   "cell_type": "code",
   "execution_count": null,
   "metadata": {},
   "outputs": [],
   "source": [
    "x = np.arange(0, 6, 0.1)\n",
    "y = (x - 3)*(x - 3) + 1\n",
    "plots.plot(x, y, lw=2, color='darkblue')\n",
    "plots.ylim(0, 10)\n",
    "plots.xlabel('$x$')\n",
    "plots.ylabel('$y$')\n",
    "plots.title('$y = (x-3)^2 + 1$');"
   ]
  },
  {
   "cell_type": "code",
   "execution_count": null,
   "metadata": {},
   "outputs": [],
   "source": [
    "def f(x):\n",
    "    return (x - 3)*(x - 3) + 1"
   ]
  },
  {
   "cell_type": "code",
   "execution_count": null,
   "metadata": {},
   "outputs": [],
   "source": [
    "[f(1), f(2), f(3), f(4), f(5)]"
   ]
  },
  {
   "cell_type": "code",
   "execution_count": null,
   "metadata": {},
   "outputs": [],
   "source": [
    "minimize(f)"
   ]
  },
  {
   "cell_type": "code",
   "execution_count": null,
   "metadata": {},
   "outputs": [],
   "source": [
    "f(minimize(f))"
   ]
  },
  {
   "cell_type": "code",
   "execution_count": null,
   "metadata": {},
   "outputs": [],
   "source": [
    "def rmse(any_slope, any_intercept):\n",
    "    x = checkout_times.column('Items')\n",
    "    y = checkout_times.column('Time')\n",
    "    fitted = any_slope*x + any_intercept\n",
    "    return np.mean((y - fitted) ** 2) ** 0.5"
   ]
  },
  {
   "cell_type": "code",
   "execution_count": null,
   "metadata": {},
   "outputs": [],
   "source": [
    "plot_rmse(3, 40)"
   ]
  },
  {
   "cell_type": "code",
   "execution_count": null,
   "metadata": {},
   "outputs": [],
   "source": [
    "rmse(3, 40)"
   ]
  },
  {
   "cell_type": "code",
   "execution_count": null,
   "metadata": {},
   "outputs": [],
   "source": [
    "best = minimize(rmse)"
   ]
  },
  {
   "cell_type": "code",
   "execution_count": null,
   "metadata": {},
   "outputs": [],
   "source": [
    "best"
   ]
  },
  {
   "cell_type": "markdown",
   "metadata": {},
   "source": [
    "## Using the formulas"
   ]
  },
  {
   "cell_type": "code",
   "execution_count": null,
   "metadata": {},
   "outputs": [],
   "source": [
    "def standard_units(any_numbers):\n",
    "    \"Convert any array of numbers to standard units.\"\n",
    "    return (any_numbers - np.mean(any_numbers)) / np.std(any_numbers)  \n",
    "\n",
    "def correlation(t, x, y):\n",
    "    \"\"\"Return the correlation coefficient (r) of two variables.\"\"\"\n",
    "    return np.mean(standard_units(t.column(x)) * standard_units(t.column(y)))\n",
    "\n",
    "def slope(t, x, y):\n",
    "    \"\"\"The slope of the regression line (original units).\"\"\"\n",
    "    r = correlation(t, x, y)\n",
    "    return r * np.std(t.column(y)) / np.std(t.column(x))\n",
    "\n",
    "def intercept(t, x, y):\n",
    "    \"\"\"The intercept of the regression line (original units).\"\"\"\n",
    "    return np.mean(t.column(y)) - slope(t, x, y) * np.mean(t.column(x))"
   ]
  },
  {
   "cell_type": "code",
   "execution_count": null,
   "metadata": {},
   "outputs": [],
   "source": [
    "ct_fit_slope = slope(checkout_times, 'Items', 'Time')\n",
    "ct_fit_slope"
   ]
  },
  {
   "cell_type": "code",
   "execution_count": null,
   "metadata": {},
   "outputs": [],
   "source": [
    "ct_fit_intercept = intercept(checkout_times, 'Items', 'Time')\n",
    "ct_fit_intercept"
   ]
  },
  {
   "cell_type": "code",
   "execution_count": null,
   "metadata": {},
   "outputs": [],
   "source": [
    "best"
   ]
  },
  {
   "cell_type": "code",
   "execution_count": null,
   "metadata": {},
   "outputs": [],
   "source": [
    "make_array(ct_fit_slope, ct_fit_intercept)"
   ]
  },
  {
   "cell_type": "markdown",
   "metadata": {},
   "source": [
    "## Regression Model ##"
   ]
  },
  {
   "cell_type": "code",
   "execution_count": null,
   "metadata": {},
   "outputs": [],
   "source": [
    "draw_and_compare(2, -5, 20)"
   ]
  },
  {
   "cell_type": "code",
   "execution_count": null,
   "metadata": {},
   "outputs": [],
   "source": [
    "draw_and_compare(2, -5, 100)"
   ]
  },
  {
   "cell_type": "markdown",
   "metadata": {},
   "source": [
    "## Confidence intervals for a prediction"
   ]
  },
  {
   "cell_type": "code",
   "execution_count": null,
   "metadata": {},
   "outputs": [],
   "source": [
    "births = Table.read_table('baby.csv')\n",
    "births"
   ]
  },
  {
   "cell_type": "code",
   "execution_count": null,
   "metadata": {},
   "outputs": [],
   "source": [
    "births = births.select(1, 0)\n",
    "births"
   ]
  },
  {
   "cell_type": "code",
   "execution_count": null,
   "metadata": {},
   "outputs": [],
   "source": [
    "births.scatter(0, 1)"
   ]
  },
  {
   "cell_type": "code",
   "execution_count": null,
   "metadata": {},
   "outputs": [],
   "source": [
    "x = 300\n",
    "a = slope(births, 'Gestational Days', 'Birth Weight')\n",
    "b = intercept(births, 'Gestational Days', 'Birth Weight')\n",
    "predicted_weight = a*x + b\n",
    "births.scatter(0, 1, fit_line=True)\n",
    "plots.scatter(x, predicted_weight, color='gold', zorder=3);"
   ]
  },
  {
   "cell_type": "code",
   "execution_count": null,
   "metadata": {},
   "outputs": [],
   "source": [
    "predicted_weight"
   ]
  },
  {
   "cell_type": "code",
   "execution_count": null,
   "metadata": {},
   "outputs": [],
   "source": [
    "plots.figure(figsize=(8, 18))\n",
    "plots.subplot(5, 1, 1)\n",
    "plots.scatter(births[0], births[1], s=10)\n",
    "plots.xlim([150, 400])\n",
    "plots.title('Original sample')\n",
    "\n",
    "for i in np.arange(1, 5, 1):\n",
    "    plots.subplot(5,1,i+1)\n",
    "    rep = births.sample()\n",
    "    plots.scatter(rep[0], rep[1], s=10)\n",
    "    plots.xlim([150, 400])\n",
    "    plots.title('Bootstrap sample '+str(i))"
   ]
  },
  {
   "cell_type": "code",
   "execution_count": null,
   "metadata": {},
   "outputs": [],
   "source": [
    "lines = Table(['slope','intercept', 'at 260', 'at x', 'at 320'])\n",
    "\n",
    "for i in range(4):\n",
    "    resample = births.sample()\n",
    "    a = slope(resample, 'Gestational Days', 'Birth Weight')\n",
    "    b = intercept(resample, 'Gestational Days', 'Birth Weight')\n",
    "    lines.append([a, b, a * 260 + b, a * x + b, a * 320 + b])\n",
    "\n",
    "for i in np.arange(lines.num_rows):\n",
    "    line = lines.row(i)\n",
    "    plots.plot([260, 320], [line.item('at 260'), line.item('at 320')], lw=1)\n",
    "    plots.scatter(x, line.item('at x'), s=20, zorder=3)\n",
    "    \n",
    "plots.title('Predictions at $x = 300$');"
   ]
  },
  {
   "cell_type": "code",
   "execution_count": null,
   "metadata": {},
   "outputs": [],
   "source": [
    "def bootstrap_prediction(table, x, y, new_x, repetitions=2500):\n",
    "\n",
    "    # Bootstrap resampling\n",
    "    predictions = make_array()\n",
    "    for i in np.arange(repetitions):\n",
    "        resample = table.sample()\n",
    "        a = slope(resample, x, y)\n",
    "        b = intercept(resample, x, y)\n",
    "        fitted_y = a * new_x + b\n",
    "        predictions = np.append(predictions, fitted_y)\n",
    "\n",
    "    # Find the ends of the approximate 95% prediction interval\n",
    "    left = percentile(2.5, predictions)\n",
    "    right = percentile(97.5, predictions)\n",
    "\n",
    "    # Display results\n",
    "    Table().with_column('Prediction', predictions).hist(bins=20)\n",
    "    plots.xlabel('predictions at x='+str(new_x))\n",
    "    plots.plot([left, right], [0, 0], color='yellow', lw=8);\n",
    "    print('Approximate 95%-confidence interval for prediction:')\n",
    "    print(left, 'to', right, '(width =', right - left, ')')"
   ]
  },
  {
   "cell_type": "code",
   "execution_count": null,
   "metadata": {},
   "outputs": [],
   "source": [
    "bootstrap_prediction(births, 'Gestational Days', 'Birth Weight', 300)"
   ]
  },
  {
   "cell_type": "code",
   "execution_count": null,
   "metadata": {},
   "outputs": [],
   "source": [
    "bootstrap_prediction(births, 'Gestational Days', 'Birth Weight', 250)"
   ]
  },
  {
   "cell_type": "markdown",
   "metadata": {
    "collapsed": true
   },
   "source": [
    "## Inference for the True Slope ##"
   ]
  },
  {
   "cell_type": "code",
   "execution_count": null,
   "metadata": {},
   "outputs": [],
   "source": [
    "def bootstrap_slope(table, x, y, repetitions=2500):\n",
    "\n",
    "    # Bootstrap resampling\n",
    "    slopes = make_array()\n",
    "    for i in np.arange(repetitions):\n",
    "        resample = table.sample()\n",
    "        a = slope(resample, x, y)\n",
    "        slopes = np.append(slopes, a)\n",
    "\n",
    "    # Find the ends of the approximate 95% prediction interval\n",
    "    left = percentile(2.5, slopes)\n",
    "    right = percentile(97.5, slopes)\n",
    "\n",
    "    # Display results\n",
    "    Table().with_column('Slope', slopes).hist(bins=20)\n",
    "    plots.xlabel('slopes')\n",
    "    plots.plot([left, right], [0, 0], color='yellow', lw=8);\n",
    "    print('Approximate 95%-confidence interval for true slope:')\n",
    "    print(left, 'to', right, '(width =', right - left, ')')"
   ]
  },
  {
   "cell_type": "code",
   "execution_count": null,
   "metadata": {},
   "outputs": [],
   "source": [
    "bootstrap_slope(births, 'Gestational Days', 'Birth Weight')"
   ]
  },
  {
   "cell_type": "code",
   "execution_count": null,
   "metadata": {},
   "outputs": [],
   "source": []
  }
 ],
 "metadata": {
  "kernelspec": {
   "display_name": "Python 3",
   "language": "python",
   "name": "python3"
  },
  "language_info": {
   "codemirror_mode": {
    "name": "ipython",
    "version": 3
   },
   "file_extension": ".py",
   "mimetype": "text/x-python",
   "name": "python",
   "nbconvert_exporter": "python",
   "pygments_lexer": "ipython3",
   "version": "3.6.4"
  }
 },
 "nbformat": 4,
 "nbformat_minor": 2
}
