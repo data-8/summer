{
 "cells": [
  {
   "cell_type": "code",
   "execution_count": null,
   "metadata": {
    "collapsed": true
   },
   "outputs": [],
   "source": [
    "from datascience import *\n",
    "import numpy as np\n",
    "\n",
    "import matplotlib.pyplot as plots\n",
    "plots.style.use('fivethirtyeight')\n",
    "%matplotlib inline"
   ]
  },
  {
   "cell_type": "markdown",
   "metadata": {},
   "source": [
    "## Example: flight delays on United\n",
    "\n",
    "Let's look at an example of some publicly available data: delays of United flights out of SFO airport.  We found a spreadsheet with a long list of all United flights out of SFO, showing the destination for each flight, how long the delay was, and other information.  First we load the spreadsheet into Python:"
   ]
  },
  {
   "cell_type": "code",
   "execution_count": null,
   "metadata": {
    "collapsed": true
   },
   "outputs": [],
   "source": [
    "united = Table.read_table('http://inferentialthinking.com/notebooks/united_summer2015.csv')"
   ]
  },
  {
   "cell_type": "markdown",
   "metadata": {},
   "source": [
    "We can take a look at the first few rows of the data table:"
   ]
  },
  {
   "cell_type": "code",
   "execution_count": null,
   "metadata": {
    "collapsed": true
   },
   "outputs": [],
   "source": [
    "united"
   ]
  },
  {
   "cell_type": "markdown",
   "metadata": {},
   "source": [
    "In this case, we have *all* the data for *all* flights.  Suppose we care about the delay to Los Angeles (LAX).  We have all of those flights, so we can compute the average delay, the median delay, and even visualize the delays:"
   ]
  },
  {
   "cell_type": "code",
   "execution_count": null,
   "metadata": {
    "collapsed": true
   },
   "outputs": [],
   "source": [
    "la = united.where('Destination', 'LAX')"
   ]
  },
  {
   "cell_type": "code",
   "execution_count": null,
   "metadata": {
    "collapsed": true
   },
   "outputs": [],
   "source": [
    "la"
   ]
  },
  {
   "cell_type": "code",
   "execution_count": null,
   "metadata": {
    "collapsed": true
   },
   "outputs": [],
   "source": [
    "la.column('Delay').mean()"
   ]
  },
  {
   "cell_type": "code",
   "execution_count": null,
   "metadata": {
    "collapsed": true
   },
   "outputs": [],
   "source": [
    "np.median(la.column('Delay'))"
   ]
  },
  {
   "cell_type": "code",
   "execution_count": null,
   "metadata": {
    "collapsed": true
   },
   "outputs": [],
   "source": [
    "la.hist('Delay', unit='minutes', bins=np.arange(-20,201,5))\n",
    "plots.title('Entire population')"
   ]
  },
  {
   "cell_type": "markdown",
   "metadata": {},
   "source": [
    "## Sampling\n",
    "\n",
    "Now let's look at what happens if take a random sample of flights.  Suppose we can't afford to measure the delay of every flight, so we pick a small random sample and measure their delays.  How close does this come to approximating the overall delay of all flights?"
   ]
  },
  {
   "cell_type": "code",
   "execution_count": null,
   "metadata": {
    "collapsed": true
   },
   "outputs": [],
   "source": [
    "sample_of_10 = la.sample(10)"
   ]
  },
  {
   "cell_type": "code",
   "execution_count": null,
   "metadata": {
    "collapsed": true
   },
   "outputs": [],
   "source": [
    "sample_of_10"
   ]
  },
  {
   "cell_type": "code",
   "execution_count": null,
   "metadata": {
    "collapsed": true
   },
   "outputs": [],
   "source": [
    "sample_of_10.hist('Delay', unit='minutes', bins=np.arange(-20,201,5))\n",
    "plots.title('Random sample of 10 flights')"
   ]
  },
  {
   "cell_type": "code",
   "execution_count": null,
   "metadata": {
    "collapsed": true
   },
   "outputs": [],
   "source": [
    "sample_of_100 = la.sample(100)"
   ]
  },
  {
   "cell_type": "code",
   "execution_count": null,
   "metadata": {
    "collapsed": true
   },
   "outputs": [],
   "source": [
    "sample_of_100.hist('Delay', unit='minutes', bins=np.arange(-20,201,5))\n",
    "plots.title('Random sample of 100 flights')"
   ]
  },
  {
   "cell_type": "code",
   "execution_count": null,
   "metadata": {
    "collapsed": true
   },
   "outputs": [],
   "source": [
    "sample_of_1000 = la.sample(1000)"
   ]
  },
  {
   "cell_type": "code",
   "execution_count": null,
   "metadata": {
    "collapsed": true
   },
   "outputs": [],
   "source": [
    "sample_of_1000.hist('Delay', unit='minutes', bins=np.arange(-20,201,5))\n",
    "plots.title('Random sample of 1000 flights')"
   ]
  },
  {
   "cell_type": "markdown",
   "metadata": {},
   "source": [
    "As you can see, the larger our sample, the more closely the distribution of data in our sample matches the distribution of the entire population of flights."
   ]
  },
  {
   "cell_type": "markdown",
   "metadata": {},
   "source": [
    "## A statistic\n",
    "\n",
    "A *statistic* is some number computed from a random sample.  Usually, we use it to help us estimate something about the full population -- without seeing the full population.\n",
    "\n",
    "Suppose we want to know the median delay for United flights from SFO to LAX.  If we have the whole population of all flights, we could just compute it:"
   ]
  },
  {
   "cell_type": "code",
   "execution_count": null,
   "metadata": {
    "collapsed": true
   },
   "outputs": [],
   "source": [
    "np.median(la.column('Delay'))"
   ]
  },
  {
   "cell_type": "markdown",
   "metadata": {},
   "source": [
    "But what if we can't afford to collect all that data, and we only have the delays for some randomly sampled flights?  We could take the median of the delays in the sample."
   ]
  },
  {
   "cell_type": "code",
   "execution_count": null,
   "metadata": {
    "collapsed": true
   },
   "outputs": [],
   "source": [
    "sample_of_100 = la.sample(100)\n",
    "np.median(sample_of_100.column('Delay'))"
   ]
  },
  {
   "cell_type": "code",
   "execution_count": null,
   "metadata": {
    "collapsed": true
   },
   "outputs": [],
   "source": [
    "another_sample_of_100 = la.sample(100)\n",
    "np.median(another_sample_of_100.column('Delay'))"
   ]
  },
  {
   "cell_type": "code",
   "execution_count": null,
   "metadata": {
    "collapsed": true
   },
   "outputs": [],
   "source": [
    "a_third_sample_of_100 = la.sample(100)\n",
    "np.median(a_third_sample_of_100.column('Delay'))"
   ]
  },
  {
   "cell_type": "markdown",
   "metadata": {},
   "source": [
    "You can see that we may get a different number each time.  And, it might not be the same as the median of the entire population.  Let's see how much it varies, by repeating the random sampling process 500 times and computing the median of the sample (the statistic) for each sample.  Then we'll visualize the results."
   ]
  },
  {
   "cell_type": "code",
   "execution_count": null,
   "metadata": {
    "collapsed": true
   },
   "outputs": [],
   "source": [
    "medians = make_array()\n",
    "\n",
    "for i in np.arange(5000):\n",
    "    new_median = np.median(la.sample(100).column('Delay'))\n",
    "    medians = np.append(medians, new_median)\n",
    "\n",
    "sample_medians = Table().with_column('Sample Median', medians)\n",
    "\n",
    "sample_medians.hist('Sample Median', unit='minutes', bins=np.arange(-2, 12, 1))\n",
    "plots.title('Distribution of the statistic')"
   ]
  },
  {
   "cell_type": "markdown",
   "metadata": {},
   "source": [
    "The median of the entire population (all United flights from SFO to LAX) was 2 minutes.  So we can see that by taking a random sample of 100 flights, we get a reasonable estimate -- the estimate (the statistic) is typically somewhere between 1-5 minutes, so it's fairly close to the right number."
   ]
  },
  {
   "cell_type": "markdown",
   "metadata": {},
   "source": [
    "What if we could afford to measure the delay for a larger sample, of size 1000 this time?  Let's see how accurate an estimate we'll get in this case."
   ]
  },
  {
   "cell_type": "code",
   "execution_count": null,
   "metadata": {
    "collapsed": true
   },
   "outputs": [],
   "source": [
    "medians = make_array()\n",
    "\n",
    "for i in np.arange(5000):\n",
    "    new_median = np.median(la.sample(1000).column('Delay'))\n",
    "    medians = np.append(medians, new_median)\n",
    "\n",
    "sample_medians = Table().with_column('Sample Median', medians)\n",
    "\n",
    "sample_medians.hist('Sample Median', unit='minutes', bins=np.arange(-2, 12, 1))\n",
    "plots.title('Distribution of the statistic')"
   ]
  },
  {
   "cell_type": "markdown",
   "metadata": {},
   "source": [
    "Now we have a much more accurate estimate: the estimate is typically in the range 2-3 minutes, while the correct answer is 2 minutes, so that's quite accurate.  The larger the sample, the more accurate the estimate.\n",
    "\n",
    "Of course, in this case we were *simulating* a scenario.  In practice we usually draw a random sample because we don't have access to the full population -- so while we can compute a statistic from the sample, we won't have any way to know for sure how close it is to the true value.  In this simulation we did have the full population too, which enabled me to compare, but in real life you'll only have the random sample, so you won't be able to compare.  (We'll talk about methods for dealing with this tomorrow.)"
   ]
  },
  {
   "cell_type": "markdown",
   "metadata": {},
   "source": [
    "## Distribution of the sample, vs distribution of the statistic\n",
    "\n",
    "Let's keep separate three things: (a) the distribution of the population; (b) the distribution of a particular sample; (c) the distribution of the statistic (across many samples).\n",
    "\n",
    "Here's the distribution of the population:"
   ]
  },
  {
   "cell_type": "code",
   "execution_count": null,
   "metadata": {
    "collapsed": true
   },
   "outputs": [],
   "source": [
    "la.hist('Delay', unit='minutes', bins=np.arange(-20,201,5))\n",
    "plots.title('Entire population')"
   ]
  },
  {
   "cell_type": "markdown",
   "metadata": {},
   "source": [
    "The distribution of a single sample:"
   ]
  },
  {
   "cell_type": "code",
   "execution_count": null,
   "metadata": {
    "collapsed": true
   },
   "outputs": [],
   "source": [
    "sample_of_10.hist('Delay', unit='minutes', bins=np.arange(-20,201,5))\n",
    "plots.title('A sample')"
   ]
  },
  {
   "cell_type": "markdown",
   "metadata": {},
   "source": [
    "The distribution of a different sample:"
   ]
  },
  {
   "cell_type": "code",
   "execution_count": null,
   "metadata": {
    "collapsed": true
   },
   "outputs": [],
   "source": [
    "another_sample_of_10 = la.sample(10)\n",
    "another_sample_of_10.hist('Delay', unit='minutes', bins=np.arange(-20,201,5))\n",
    "plots.title('Another sample')"
   ]
  },
  {
   "cell_type": "markdown",
   "metadata": {},
   "source": [
    "The distribution of a third sample:"
   ]
  },
  {
   "cell_type": "code",
   "execution_count": null,
   "metadata": {
    "collapsed": true
   },
   "outputs": [],
   "source": [
    "third_sample_of_10 = la.sample(10)\n",
    "third_sample_of_10.hist('Delay', unit='minutes', bins=np.arange(-20,201,5))\n",
    "plots.title('A third sample')"
   ]
  },
  {
   "cell_type": "markdown",
   "metadata": {},
   "source": [
    "And finally, the distribution of the statistic:"
   ]
  },
  {
   "cell_type": "code",
   "execution_count": null,
   "metadata": {
    "collapsed": true
   },
   "outputs": [],
   "source": [
    "medians = make_array()\n",
    "\n",
    "for i in np.arange(5000):\n",
    "    new_median = np.median(la.sample(10).column('Delay'))\n",
    "    medians = np.append(medians, new_median)\n",
    "\n",
    "sample_medians = Table().with_column('Sample Median', medians)\n",
    "\n",
    "sample_medians.hist('Sample Median', unit='minutes', bins=np.arange(-20, 201, 5))\n",
    "plots.title('Distribution of the statistic')"
   ]
  }
 ],
 "metadata": {
  "kernelspec": {
   "display_name": "Python 3",
   "language": "python",
   "name": "python3"
  },
  "language_info": {
   "codemirror_mode": {
    "name": "ipython",
    "version": 3
   },
   "file_extension": ".py",
   "mimetype": "text/x-python",
   "name": "python",
   "nbconvert_exporter": "python",
   "pygments_lexer": "ipython3",
   "version": "3.6.1"
  }
 },
 "nbformat": 4,
 "nbformat_minor": 2
}
