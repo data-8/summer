{
 "cells": [
  {
   "cell_type": "code",
   "execution_count": 1,
   "metadata": {
    "collapsed": true
   },
   "outputs": [],
   "source": [
    "from datascience import *\n",
    "import numpy as np\n",
    "\n",
    "import matplotlib.pyplot as plots\n",
    "plots.style.use('fivethirtyeight')\n",
    "%matplotlib inline"
   ]
  },
  {
   "cell_type": "markdown",
   "metadata": {},
   "source": [
    "## Example: flight delays on United\n",
    "\n",
    "Let's look at an example of some publicly available data: delays of United flights out of SFO airport.  We found a spreadsheet with a long list of all United flights out of SFO, showing the destination for each flight, how long the delay was, and other information.  First we load the spreadsheet into Python:"
   ]
  },
  {
   "cell_type": "code",
   "execution_count": 2,
   "metadata": {
    "collapsed": false
   },
   "outputs": [],
   "source": [
    "united = Table.read_table('http://inferentialthinking.com/notebooks/united_summer2015.csv')"
   ]
  },
  {
   "cell_type": "markdown",
   "metadata": {},
   "source": [
    "We can take a look at the first few rows of the data table:"
   ]
  },
  {
   "cell_type": "code",
   "execution_count": 3,
   "metadata": {
    "collapsed": false
   },
   "outputs": [
    {
     "data": {
      "text/html": [
       "<table border=\"1\" class=\"dataframe\">\n",
       "    <thead>\n",
       "        <tr>\n",
       "            <th>Date</th> <th>Flight Number</th> <th>Destination</th> <th>Delay</th>\n",
       "        </tr>\n",
       "    </thead>\n",
       "    <tbody>\n",
       "        <tr>\n",
       "            <td>6/1/15</td> <td>73           </td> <td>HNL        </td> <td>257  </td>\n",
       "        </tr>\n",
       "    </tbody>\n",
       "        <tr>\n",
       "            <td>6/1/15</td> <td>217          </td> <td>EWR        </td> <td>28   </td>\n",
       "        </tr>\n",
       "    </tbody>\n",
       "        <tr>\n",
       "            <td>6/1/15</td> <td>237          </td> <td>STL        </td> <td>-3   </td>\n",
       "        </tr>\n",
       "    </tbody>\n",
       "        <tr>\n",
       "            <td>6/1/15</td> <td>250          </td> <td>SAN        </td> <td>0    </td>\n",
       "        </tr>\n",
       "    </tbody>\n",
       "        <tr>\n",
       "            <td>6/1/15</td> <td>267          </td> <td>PHL        </td> <td>64   </td>\n",
       "        </tr>\n",
       "    </tbody>\n",
       "        <tr>\n",
       "            <td>6/1/15</td> <td>273          </td> <td>SEA        </td> <td>-6   </td>\n",
       "        </tr>\n",
       "    </tbody>\n",
       "        <tr>\n",
       "            <td>6/1/15</td> <td>278          </td> <td>SEA        </td> <td>-8   </td>\n",
       "        </tr>\n",
       "    </tbody>\n",
       "        <tr>\n",
       "            <td>6/1/15</td> <td>292          </td> <td>EWR        </td> <td>12   </td>\n",
       "        </tr>\n",
       "    </tbody>\n",
       "        <tr>\n",
       "            <td>6/1/15</td> <td>300          </td> <td>HNL        </td> <td>20   </td>\n",
       "        </tr>\n",
       "    </tbody>\n",
       "        <tr>\n",
       "            <td>6/1/15</td> <td>317          </td> <td>IND        </td> <td>-10  </td>\n",
       "        </tr>\n",
       "    </tbody>\n",
       "</table>\n",
       "<p>... (13815 rows omitted)</p"
      ],
      "text/plain": [
       "Date   | Flight Number | Destination | Delay\n",
       "6/1/15 | 73            | HNL         | 257\n",
       "6/1/15 | 217           | EWR         | 28\n",
       "6/1/15 | 237           | STL         | -3\n",
       "6/1/15 | 250           | SAN         | 0\n",
       "6/1/15 | 267           | PHL         | 64\n",
       "6/1/15 | 273           | SEA         | -6\n",
       "6/1/15 | 278           | SEA         | -8\n",
       "6/1/15 | 292           | EWR         | 12\n",
       "6/1/15 | 300           | HNL         | 20\n",
       "6/1/15 | 317           | IND         | -10\n",
       "... (13815 rows omitted)"
      ]
     },
     "execution_count": 3,
     "metadata": {},
     "output_type": "execute_result"
    }
   ],
   "source": [
    "united"
   ]
  },
  {
   "cell_type": "markdown",
   "metadata": {},
   "source": [
    "In this case, we have *all* the data for *all* flights.  Suppose we care about the delay to Los Angeles (LAX).  We have all of those flights, so we can compute the average delay, the median delay, and even visualize the delays:"
   ]
  },
  {
   "cell_type": "code",
   "execution_count": 4,
   "metadata": {
    "collapsed": true
   },
   "outputs": [],
   "source": [
    "la = united.where('Destination', 'LAX')"
   ]
  },
  {
   "cell_type": "code",
   "execution_count": 5,
   "metadata": {
    "collapsed": false
   },
   "outputs": [
    {
     "data": {
      "text/html": [
       "<table border=\"1\" class=\"dataframe\">\n",
       "    <thead>\n",
       "        <tr>\n",
       "            <th>Date</th> <th>Flight Number</th> <th>Destination</th> <th>Delay</th>\n",
       "        </tr>\n",
       "    </thead>\n",
       "    <tbody>\n",
       "        <tr>\n",
       "            <td>6/1/15</td> <td>433          </td> <td>LAX        </td> <td>10   </td>\n",
       "        </tr>\n",
       "    </tbody>\n",
       "        <tr>\n",
       "            <td>6/1/15</td> <td>478          </td> <td>LAX        </td> <td>0    </td>\n",
       "        </tr>\n",
       "    </tbody>\n",
       "        <tr>\n",
       "            <td>6/1/15</td> <td>525          </td> <td>LAX        </td> <td>-4   </td>\n",
       "        </tr>\n",
       "    </tbody>\n",
       "        <tr>\n",
       "            <td>6/1/15</td> <td>769          </td> <td>LAX        </td> <td>55   </td>\n",
       "        </tr>\n",
       "    </tbody>\n",
       "        <tr>\n",
       "            <td>6/1/15</td> <td>814          </td> <td>LAX        </td> <td>-3   </td>\n",
       "        </tr>\n",
       "    </tbody>\n",
       "        <tr>\n",
       "            <td>6/1/15</td> <td>1002         </td> <td>LAX        </td> <td>38   </td>\n",
       "        </tr>\n",
       "    </tbody>\n",
       "        <tr>\n",
       "            <td>6/1/15</td> <td>1083         </td> <td>LAX        </td> <td>98   </td>\n",
       "        </tr>\n",
       "    </tbody>\n",
       "        <tr>\n",
       "            <td>6/1/15</td> <td>1130         </td> <td>LAX        </td> <td>189  </td>\n",
       "        </tr>\n",
       "    </tbody>\n",
       "        <tr>\n",
       "            <td>6/1/15</td> <td>1192         </td> <td>LAX        </td> <td>-4   </td>\n",
       "        </tr>\n",
       "    </tbody>\n",
       "        <tr>\n",
       "            <td>6/1/15</td> <td>1591         </td> <td>LAX        </td> <td>0    </td>\n",
       "        </tr>\n",
       "    </tbody>\n",
       "</table>\n",
       "<p>... (919 rows omitted)</p"
      ],
      "text/plain": [
       "Date   | Flight Number | Destination | Delay\n",
       "6/1/15 | 433           | LAX         | 10\n",
       "6/1/15 | 478           | LAX         | 0\n",
       "6/1/15 | 525           | LAX         | -4\n",
       "6/1/15 | 769           | LAX         | 55\n",
       "6/1/15 | 814           | LAX         | -3\n",
       "6/1/15 | 1002          | LAX         | 38\n",
       "6/1/15 | 1083          | LAX         | 98\n",
       "6/1/15 | 1130          | LAX         | 189\n",
       "6/1/15 | 1192          | LAX         | -4\n",
       "6/1/15 | 1591          | LAX         | 0\n",
       "... (919 rows omitted)"
      ]
     },
     "execution_count": 5,
     "metadata": {},
     "output_type": "execute_result"
    }
   ],
   "source": [
    "la"
   ]
  },
  {
   "cell_type": "code",
   "execution_count": 6,
   "metadata": {
    "collapsed": false
   },
   "outputs": [
    {
     "data": {
      "text/plain": [
       "17.412271259418731"
      ]
     },
     "execution_count": 6,
     "metadata": {},
     "output_type": "execute_result"
    }
   ],
   "source": [
    "la['Delay'].mean()"
   ]
  },
  {
   "cell_type": "code",
   "execution_count": 7,
   "metadata": {
    "collapsed": false
   },
   "outputs": [
    {
     "data": {
      "text/plain": [
       "2.0"
      ]
     },
     "execution_count": 7,
     "metadata": {},
     "output_type": "execute_result"
    }
   ],
   "source": [
    "np.median(la['Delay'])"
   ]
  },
  {
   "cell_type": "code",
   "execution_count": 8,
   "metadata": {
    "collapsed": false
   },
   "outputs": [
    {
     "data": {
      "text/plain": [
       "<matplotlib.text.Text at 0x1142f10b8>"
      ]
     },
     "execution_count": 8,
     "metadata": {},
     "output_type": "execute_result"
    },
    {
     "data": {
      "image/png": "[encoded data removed]",
      "text/plain": [
       "<matplotlib.figure.Figure at 0x113c60518>"
      ]
     },
     "metadata": {},
     "output_type": "display_data"
    }
   ],
   "source": [
    "la.hist('Delay', unit='minutes', bins=np.arange(-20,201,5))\n",
    "plots.title('Entire population')"
   ]
  },
  {
   "cell_type": "markdown",
   "metadata": {},
   "source": [
    "## Sampling\n",
    "\n",
    "Now let's look at what happens if take a random sample of flights.  Suppose we can't afford to measure the delay of every flight, so we pick a small random sample and measure their delays.  How close does this come to approximating the overall delay of all flights?"
   ]
  },
  {
   "cell_type": "code",
   "execution_count": 9,
   "metadata": {
    "collapsed": false
   },
   "outputs": [],
   "source": [
    "sample_of_10 = la.sample(10)"
   ]
  },
  {
   "cell_type": "code",
   "execution_count": 10,
   "metadata": {
    "collapsed": false
   },
   "outputs": [
    {
     "data": {
      "text/html": [
       "<table border=\"1\" class=\"dataframe\">\n",
       "    <thead>\n",
       "        <tr>\n",
       "            <th>Date</th> <th>Flight Number</th> <th>Destination</th> <th>Delay</th>\n",
       "        </tr>\n",
       "    </thead>\n",
       "    <tbody>\n",
       "        <tr>\n",
       "            <td>6/8/15 </td> <td>1756         </td> <td>LAX        </td> <td>8    </td>\n",
       "        </tr>\n",
       "    </tbody>\n",
       "        <tr>\n",
       "            <td>8/5/15 </td> <td>478          </td> <td>LAX        </td> <td>-3   </td>\n",
       "        </tr>\n",
       "    </tbody>\n",
       "        <tr>\n",
       "            <td>6/16/15</td> <td>1579         </td> <td>LAX        </td> <td>13   </td>\n",
       "        </tr>\n",
       "    </tbody>\n",
       "        <tr>\n",
       "            <td>6/29/15</td> <td>1756         </td> <td>LAX        </td> <td>1    </td>\n",
       "        </tr>\n",
       "    </tbody>\n",
       "        <tr>\n",
       "            <td>6/18/15</td> <td>1498         </td> <td>LAX        </td> <td>16   </td>\n",
       "        </tr>\n",
       "    </tbody>\n",
       "        <tr>\n",
       "            <td>8/20/15</td> <td>1276         </td> <td>LAX        </td> <td>-5   </td>\n",
       "        </tr>\n",
       "    </tbody>\n",
       "        <tr>\n",
       "            <td>8/8/15 </td> <td>1942         </td> <td>LAX        </td> <td>29   </td>\n",
       "        </tr>\n",
       "    </tbody>\n",
       "        <tr>\n",
       "            <td>8/12/15</td> <td>1710         </td> <td>LAX        </td> <td>99   </td>\n",
       "        </tr>\n",
       "    </tbody>\n",
       "        <tr>\n",
       "            <td>7/19/15</td> <td>281          </td> <td>LAX        </td> <td>10   </td>\n",
       "        </tr>\n",
       "    </tbody>\n",
       "        <tr>\n",
       "            <td>8/13/15</td> <td>1182         </td> <td>LAX        </td> <td>15   </td>\n",
       "        </tr>\n",
       "    </tbody>\n",
       "</table>"
      ],
      "text/plain": [
       "Date    | Flight Number | Destination | Delay\n",
       "6/8/15  | 1756          | LAX         | 8\n",
       "8/5/15  | 478           | LAX         | -3\n",
       "6/16/15 | 1579          | LAX         | 13\n",
       "6/29/15 | 1756          | LAX         | 1\n",
       "6/18/15 | 1498          | LAX         | 16\n",
       "8/20/15 | 1276          | LAX         | -5\n",
       "8/8/15  | 1942          | LAX         | 29\n",
       "8/12/15 | 1710          | LAX         | 99\n",
       "7/19/15 | 281           | LAX         | 10\n",
       "8/13/15 | 1182          | LAX         | 15"
      ]
     },
     "execution_count": 10,
     "metadata": {},
     "output_type": "execute_result"
    }
   ],
   "source": [
    "sample_of_10"
   ]
  },
  {
   "cell_type": "code",
   "execution_count": 11,
   "metadata": {
    "collapsed": false
   },
   "outputs": [
    {
     "data": {
      "text/plain": [
       "<matplotlib.text.Text at 0x116bd8358>"
      ]
     },
     "execution_count": 11,
     "metadata": {},
     "output_type": "execute_result"
    },
    {
     "data": {
      "image/png": "[encoded data removed]",
      "text/plain": [
       "<matplotlib.figure.Figure at 0x113c60668>"
      ]
     },
     "metadata": {},
     "output_type": "display_data"
    }
   ],
   "source": [
    "sample_of_10.hist('Delay', unit='minutes', bins=np.arange(-20,201,5))\n",
    "plots.title('Random sample of 10 flights')"
   ]
  },
  {
   "cell_type": "code",
   "execution_count": 12,
   "metadata": {
    "collapsed": true
   },
   "outputs": [],
   "source": [
    "sample_of_100 = la.sample(100)"
   ]
  },
  {
   "cell_type": "code",
   "execution_count": 13,
   "metadata": {
    "collapsed": false
   },
   "outputs": [
    {
     "data": {
      "text/plain": [
       "<matplotlib.text.Text at 0x116df7c88>"
      ]
     },
     "execution_count": 13,
     "metadata": {},
     "output_type": "execute_result"
    },
    {
     "data": {
      "image/png": "[encoded data removed]",
      "text/plain": [
       "<matplotlib.figure.Figure at 0x116c98e80>"
      ]
     },
     "metadata": {},
     "output_type": "display_data"
    }
   ],
   "source": [
    "sample_of_100.hist('Delay', unit='minutes', bins=np.arange(-20,201,5))\n",
    "plots.title('Random sample of 100 flights')"
   ]
  },
  {
   "cell_type": "code",
   "execution_count": 14,
   "metadata": {
    "collapsed": true
   },
   "outputs": [],
   "source": [
    "sample_of_1000 = la.sample(1000)"
   ]
  },
  {
   "cell_type": "code",
   "execution_count": 15,
   "metadata": {
    "collapsed": false
   },
   "outputs": [
    {
     "data": {
      "text/plain": [
       "<matplotlib.text.Text at 0x116f8c630>"
      ]
     },
     "execution_count": 15,
     "metadata": {},
     "output_type": "execute_result"
    },
    {
     "data": {
      "image/png": "[encoded data removed]",
      "text/plain": [
       "<matplotlib.figure.Figure at 0x116ccc978>"
      ]
     },
     "metadata": {},
     "output_type": "display_data"
    }
   ],
   "source": [
    "sample_of_1000.hist('Delay', unit='minutes', bins=np.arange(-20,201,5))\n",
    "plots.title('Random sample of 1000 flights')"
   ]
  },
  {
   "cell_type": "markdown",
   "metadata": {},
   "source": [
    "As you can see, the larger our sample, the more closely the distribution of data in our sample matches the distribution of the entire population of flights."
   ]
  },
  {
   "cell_type": "markdown",
   "metadata": {},
   "source": [
    "## A statistic\n",
    "\n",
    "A *statistic* is some number computed from a random sample.  Usually, we use it to help us estimate something about the full population -- without seeing the full population.\n",
    "\n",
    "Suppose we want to know the median delay for United flights from SFO to LAX.  If we have the whole population of all flights, we could just compute it:"
   ]
  },
  {
   "cell_type": "code",
   "execution_count": 16,
   "metadata": {
    "collapsed": false
   },
   "outputs": [
    {
     "data": {
      "text/plain": [
       "2.0"
      ]
     },
     "execution_count": 16,
     "metadata": {},
     "output_type": "execute_result"
    }
   ],
   "source": [
    "np.median(la['Delay'])"
   ]
  },
  {
   "cell_type": "markdown",
   "metadata": {},
   "source": [
    "But what if we can't afford to collect all that data, and we only have the delays for some randomly sampled flights?  We could take the median of the delays in the sample."
   ]
  },
  {
   "cell_type": "code",
   "execution_count": 17,
   "metadata": {
    "collapsed": false
   },
   "outputs": [
    {
     "data": {
      "text/plain": [
       "2.0"
      ]
     },
     "execution_count": 17,
     "metadata": {},
     "output_type": "execute_result"
    }
   ],
   "source": [
    "sample_of_100 = la.sample(100)\n",
    "np.median(sample_of_100['Delay'])"
   ]
  },
  {
   "cell_type": "code",
   "execution_count": 18,
   "metadata": {
    "collapsed": false
   },
   "outputs": [
    {
     "data": {
      "text/plain": [
       "1.0"
      ]
     },
     "execution_count": 18,
     "metadata": {},
     "output_type": "execute_result"
    }
   ],
   "source": [
    "another_sample_of_100 = la.sample(100)\n",
    "np.median(another_sample_of_100['Delay'])"
   ]
  },
  {
   "cell_type": "code",
   "execution_count": 19,
   "metadata": {
    "collapsed": false
   },
   "outputs": [
    {
     "data": {
      "text/plain": [
       "4.5"
      ]
     },
     "execution_count": 19,
     "metadata": {},
     "output_type": "execute_result"
    }
   ],
   "source": [
    "a_third_sample_of_100 = la.sample(100)\n",
    "np.median(a_third_sample_of_100['Delay'])"
   ]
  },
  {
   "cell_type": "markdown",
   "metadata": {},
   "source": [
    "You can see that we may get a different number each time.  And, it might not be the same as the median of the entire population.  Let's see how much it varies, by repeating the random sampling process 500 times and computing the median of the sample (the statistic) for each sample.  Then we'll visualize the results."
   ]
  },
  {
   "cell_type": "code",
   "execution_count": null,
   "metadata": {
    "collapsed": false
   },
   "outputs": [
    {
     "data": {
      "text/plain": [
       "<matplotlib.text.Text at 0x1170d67b8>"
      ]
     },
     "execution_count": 20,
     "metadata": {},
     "output_type": "execute_result"
    },
    {
     "data": {
      "image/png": "[encoded data removed]",
      "text/plain": [
       "<matplotlib.figure.Figure at 0x1095d8320>"
      ]
     },
     "metadata": {},
     "output_type": "display_data"
    }
   ],
   "source": [
    "medians = make_array()\n",
    "\n",
    "for i in np.arange(5000):\n",
    "    new_median = np.median(la.sample(100).column('Delay'))\n",
    "    medians = np.append(medians, new_median)\n",
    "\n",
    "sample_medians = Table().with_column('Sample Median', medians)\n",
    "\n",
    "sample_medians.hist('Sample Median', unit='minutes', bins=np.arange(-2, 12, 1))\n",
    "plots.title('Distribution of the statistic')"
   ]
  },
  {
   "cell_type": "markdown",
   "metadata": {},
   "source": [
    "The median of the entire population (all United flights from SFO to LAX) was 2 minutes.  So we can see that by taking a random sample of 100 flights, we get a reasonable estimate -- the estimate (the statistic) is typically somewhere between 1-5 minutes, so it's fairly close to the right number."
   ]
  },
  {
   "cell_type": "markdown",
   "metadata": {},
   "source": [
    "What if we could afford to measure the delay for a larger sample, of size 1000 this time?  Let's see how accurate an estimate we'll get in this case."
   ]
  },
  {
   "cell_type": "code",
   "execution_count": null,
   "metadata": {
    "collapsed": false
   },
   "outputs": [],
   "source": [
    "medians = make_array()\n",
    "\n",
    "for i in np.arange(5000):\n",
    "    new_median = np.median(la.sample(1000).column('Delay'))\n",
    "    medians = np.append(medians, new_median)\n",
    "\n",
    "sample_medians = Table().with_column('Sample Median', medians)\n",
    "\n",
    "sample_medians.hist('Sample Median', unit='minutes', bins=np.arange(-2, 12, 1))\n",
    "plots.title('Distribution of the statistic')"
   ]
  },
  {
   "cell_type": "markdown",
   "metadata": {},
   "source": [
    "Now we have a much more accurate estimate: the estimate is typically in the range 2-3 minutes, while the correct answer is 2 minutes, so that's quite accurate.  The larger the sample, the more accurate the estimate.\n",
    "\n",
    "Of course, in this case we were *simulating* a scenario.  In practice we usually draw a random sample because we don't have access to the full population -- so while we can compute a statistic from the sample, we won't have any way to know for sure how close it is to the true value.  In this simulation we did have the full population too, which enabled me to compare, but in real life you'll only have the random sample, so you won't be able to compare.  (We'll talk about methods for dealing with this tomorrow.)"
   ]
  },
  {
   "cell_type": "markdown",
   "metadata": {},
   "source": [
    "## Distribution of the sample, vs distribution of the statistic\n",
    "\n",
    "Let's keep separate three things: (a) the distribution of the population; (b) the distribution of a particular sample; (c) the distribution of the statistic (across many samples).\n",
    "\n",
    "Here's the distribution of the population:"
   ]
  },
  {
   "cell_type": "code",
   "execution_count": null,
   "metadata": {
    "collapsed": false
   },
   "outputs": [],
   "source": [
    "la.hist('Delay', unit='minutes', bins=np.arange(-20,201,5))\n",
    "plots.title('Entire population')"
   ]
  },
  {
   "cell_type": "markdown",
   "metadata": {},
   "source": [
    "The distribution of a single sample:"
   ]
  },
  {
   "cell_type": "code",
   "execution_count": null,
   "metadata": {
    "collapsed": false
   },
   "outputs": [],
   "source": [
    "sample_of_10.hist('Delay', unit='minutes', bins=np.arange(-20,201,5))\n",
    "plots.title('A sample')"
   ]
  },
  {
   "cell_type": "markdown",
   "metadata": {},
   "source": [
    "The distribution of a different sample:"
   ]
  },
  {
   "cell_type": "code",
   "execution_count": null,
   "metadata": {
    "collapsed": false
   },
   "outputs": [],
   "source": [
    "another_sample_of_10 = la.sample(10)\n",
    "another_sample_of_10.hist('Delay', unit='minutes', bins=np.arange(-20,201,5))\n",
    "plots.title('Another sample')"
   ]
  },
  {
   "cell_type": "markdown",
   "metadata": {},
   "source": [
    "The distribution of a third sample:"
   ]
  },
  {
   "cell_type": "code",
   "execution_count": null,
   "metadata": {
    "collapsed": false
   },
   "outputs": [],
   "source": [
    "third_sample_of_10 = la.sample(10)\n",
    "third_sample_of_10.hist('Delay', unit='minutes', bins=np.arange(-20,201,5))\n",
    "plots.title('A third sample')"
   ]
  },
  {
   "cell_type": "markdown",
   "metadata": {},
   "source": [
    "And finally, the distribution of the statistic:"
   ]
  },
  {
   "cell_type": "code",
   "execution_count": null,
   "metadata": {
    "collapsed": false
   },
   "outputs": [],
   "source": [
    "medians = make_array()\n",
    "\n",
    "for i in np.arange(5000):\n",
    "    new_median = np.median(la.sample(10).column('Delay'))\n",
    "    medians = np.append(medians, new_median)\n",
    "\n",
    "sample_medians = Table().with_column('Sample Median', medians)\n",
    "\n",
    "sample_medians.hist('Sample Median', unit='minutes', bins=np.arange(-20, 201, 5))\n",
    "plots.title('Distribution of the statistic')"
   ]
  }
 ],
 "metadata": {
  "kernelspec": {
   "display_name": "Python 3",
   "language": "python",
   "name": "python3"
  },
  "language_info": {
   "codemirror_mode": {
    "name": "ipython",
    "version": 3
   },
   "file_extension": ".py",
   "mimetype": "text/x-python",
   "name": "python",
   "nbconvert_exporter": "python",
   "pygments_lexer": "ipython3",
   "version": "3.6.0"
  }
 },
 "nbformat": 4,
 "nbformat_minor": 2
}
